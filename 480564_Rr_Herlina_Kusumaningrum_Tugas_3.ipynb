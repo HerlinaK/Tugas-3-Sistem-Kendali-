{
  "nbformat": 4,
  "nbformat_minor": 0,
  "metadata": {
    "colab": {
      "provenance": []
    },
    "kernelspec": {
      "name": "python3",
      "display_name": "Python 3"
    },
    "language_info": {
      "name": "python"
    }
  },
  "cells": [
    {
      "cell_type": "markdown",
      "source": [
        "Nama : Rr. Herlina Kusumaningrum \n",
        "NIM  : 21/480564/PA/20879\n",
        "Tugas 3 - Sistem Kendali"
      ],
      "metadata": {
        "id": "HJTInwn9xsMB"
      }
    },
    {
      "cell_type": "markdown",
      "source": [
        "No. 1\n"
      ],
      "metadata": {
        "id": "p9DNBLbAxlrf"
      }
    },
    {
      "cell_type": "code",
      "execution_count": 1,
      "metadata": {
        "colab": {
          "base_uri": "https://localhost:8080/"
        },
        "id": "lZtWT4QSwrBj",
        "outputId": "9db28208-fa15-4d7b-fb99-9c45d2a00323"
      },
      "outputs": [
        {
          "output_type": "stream",
          "name": "stdout",
          "text": [
            "Looking in indexes: https://pypi.org/simple, https://us-python.pkg.dev/colab-wheels/public/simple/\n",
            "Collecting tbcontrol\n",
            "  Downloading tbcontrol-0.2.1-py3-none-any.whl (24 kB)\n",
            "Requirement already satisfied: packaging in /usr/local/lib/python3.8/dist-packages (from tbcontrol) (23.0)\n",
            "Requirement already satisfied: numpy in /usr/local/lib/python3.8/dist-packages (from tbcontrol) (1.22.4)\n",
            "Requirement already satisfied: scipy in /usr/local/lib/python3.8/dist-packages (from tbcontrol) (1.10.1)\n",
            "Requirement already satisfied: tqdm in /usr/local/lib/python3.8/dist-packages (from tbcontrol) (4.64.1)\n",
            "Installing collected packages: tbcontrol\n",
            "Successfully installed tbcontrol-0.2.1\n"
          ]
        }
      ],
      "source": [
        "!pip install tbcontrol"
      ]
    },
    {
      "cell_type": "code",
      "source": [
        "import sympy\n",
        "import tbcontrol\n",
        "from tbcontrol.symbolic import routh\n",
        "s = sympy.Symbol('s')\n",
        "K = sympy.Symbol('K')\n",
        "print(\"1. Polynomial Value\")\n",
        "p = 7*s**7 + 3*s**6 + 6*s**5 + 4 *s **4 + 5 * s **3 + 2* s**2+ s + K\n",
        "p = sympy.Poly(p, s)\n",
        "p"
      ],
      "metadata": {
        "colab": {
          "base_uri": "https://localhost:8080/",
          "height": 56
        },
        "id": "L54WY94Iww4p",
        "outputId": "689a29e8-7118-4ad1-905f-14f95b42557b"
      },
      "execution_count": 2,
      "outputs": [
        {
          "output_type": "stream",
          "name": "stdout",
          "text": [
            "1. Polynomial Value\n"
          ]
        },
        {
          "output_type": "execute_result",
          "data": {
            "text/plain": [
              "Poly(7*s**7 + 3*s**6 + 6*s**5 + 4*s**4 + 5*s**3 + 2*s**2 + s + K, s, domain='ZZ[K]')"
            ],
            "text/latex": "$\\displaystyle \\operatorname{Poly}{\\left( 7 s^{7} + 3 s^{6} + 6 s^{5} + 4 s^{4} + 5 s^{3} + 2 s^{2} + s + K, s, domain=\\mathbb{Z}\\left[K\\right] \\right)}$"
          },
          "metadata": {},
          "execution_count": 2
        }
      ]
    },
    {
      "cell_type": "code",
      "source": [
        "print(\"2. Routh Table\")\n",
        "a = routh(sympy.Poly(p, s))\n",
        "a"
      ],
      "metadata": {
        "colab": {
          "base_uri": "https://localhost:8080/",
          "height": 207
        },
        "id": "Z4AbEP3vw2Ol",
        "outputId": "64c168d9-7e12-4db2-fc61-1f43c76e541f"
      },
      "execution_count": 3,
      "outputs": [
        {
          "output_type": "stream",
          "name": "stdout",
          "text": [
            "2. Routh Table\n"
          ]
        },
        {
          "output_type": "execute_result",
          "data": {
            "text/plain": [
              "Matrix([\n",
              "[                                                            7,               6,         5, 1],\n",
              "[                                                            3,               4,         2, K],\n",
              "[                                                        -10/3,             1/3, 1 - 7*K/3, 0],\n",
              "[                                                        43/10, 29/10 - 21*K/10,         K, 0],\n",
              "[                                             111/43 - 70*K/43,     1 - 67*K/43,         0, 0],\n",
              "[                       (-147*K**2 + 148*K - 137)/(70*K - 111),               K,         0, 0],\n",
              "[(-343*K**3 + 739*K**2 - 648*K + 137)/(147*K**2 - 148*K + 137),               0,         0, 0],\n",
              "[                                                            K,               0,         0, 0]])"
            ],
            "text/latex": "$\\displaystyle \\left[\\begin{matrix}7 & 6 & 5 & 1\\\\3 & 4 & 2 & K\\\\- \\frac{10}{3} & \\frac{1}{3} & 1 - \\frac{7 K}{3} & 0\\\\\\frac{43}{10} & \\frac{29}{10} - \\frac{21 K}{10} & K & 0\\\\\\frac{111}{43} - \\frac{70 K}{43} & 1 - \\frac{67 K}{43} & 0 & 0\\\\\\frac{- 147 K^{2} + 148 K - 137}{70 K - 111} & K & 0 & 0\\\\\\frac{- 343 K^{3} + 739 K^{2} - 648 K + 137}{147 K^{2} - 148 K + 137} & 0 & 0 & 0\\\\K & 0 & 0 & 0\\end{matrix}\\right]$"
          },
          "metadata": {},
          "execution_count": 3
        }
      ]
    },
    {
      "cell_type": "code",
      "source": [
        "print(\"3. K value which can be changed via user input\")\n",
        "sympy.solve([e > 0 for e in a[:, 0]], K)"
      ],
      "metadata": {
        "colab": {
          "base_uri": "https://localhost:8080/",
          "height": 55
        },
        "id": "5_BAnKm7w8A6",
        "outputId": "87381e92-bf5c-4820-c067-4641c7502150"
      },
      "execution_count": 4,
      "outputs": [
        {
          "output_type": "stream",
          "name": "stdout",
          "text": [
            "3. K value which can be changed via user input\n"
          ]
        },
        {
          "output_type": "execute_result",
          "data": {
            "text/plain": [
              "False"
            ],
            "text/latex": "$\\displaystyle \\text{False}$"
          },
          "metadata": {},
          "execution_count": 4
        }
      ]
    },
    {
      "cell_type": "markdown",
      "source": [
        "No. 2"
      ],
      "metadata": {
        "id": "5rm9pmF_xJ8z"
      }
    },
    {
      "cell_type": "code",
      "source": [
        "\n",
        "print(\"Nilai Polynomial\")\n",
        "p = 4*s**4 + 3*s**3 + 2*s**2 +  s + 7\n",
        "p = sympy.Poly(p, s)\n",
        "p"
      ],
      "metadata": {
        "colab": {
          "base_uri": "https://localhost:8080/",
          "height": 56
        },
        "id": "CB26jhSvxLat",
        "outputId": "3ec6689d-74d5-4e07-d7ff-2458ee7aa03a"
      },
      "execution_count": 5,
      "outputs": [
        {
          "output_type": "stream",
          "name": "stdout",
          "text": [
            "Nilai Polynomial\n"
          ]
        },
        {
          "output_type": "execute_result",
          "data": {
            "text/plain": [
              "Poly(4*s**4 + 3*s**3 + 2*s**2 + s + 7, s, domain='ZZ')"
            ],
            "text/latex": "$\\displaystyle \\operatorname{Poly}{\\left( 4 s^{4} + 3 s^{3} + 2 s^{2} + s + 7, s, domain=\\mathbb{Z} \\right)}$"
          },
          "metadata": {},
          "execution_count": 5
        }
      ]
    },
    {
      "cell_type": "code",
      "source": [
        "print(\"2. Routh Table\")\n",
        "a = routh(sympy.Poly(p, s))\n",
        "a"
      ],
      "metadata": {
        "colab": {
          "base_uri": "https://localhost:8080/",
          "height": 136
        },
        "id": "7s_W8GmkxZyJ",
        "outputId": "5ed1cbbf-41b4-49f0-85f8-9884f56d87fa"
      },
      "execution_count": 6,
      "outputs": [
        {
          "output_type": "stream",
          "name": "stdout",
          "text": [
            "2. Routh Table\n"
          ]
        },
        {
          "output_type": "execute_result",
          "data": {
            "text/plain": [
              "Matrix([\n",
              "[    4, 2, 7],\n",
              "[    3, 1, 0],\n",
              "[  2/3, 7, 0],\n",
              "[-61/2, 0, 0],\n",
              "[    7, 0, 0]])"
            ],
            "text/latex": "$\\displaystyle \\left[\\begin{matrix}4 & 2 & 7\\\\3 & 1 & 0\\\\\\frac{2}{3} & 7 & 0\\\\- \\frac{61}{2} & 0 & 0\\\\7 & 0 & 0\\end{matrix}\\right]$"
          },
          "metadata": {},
          "execution_count": 6
        }
      ]
    },
    {
      "cell_type": "code",
      "source": [
        "print(\"3. K value which can be changed via user input\")\n",
        "sympy.solve([e > 0 for e in a[:, 0]], K)"
      ],
      "metadata": {
        "colab": {
          "base_uri": "https://localhost:8080/"
        },
        "id": "5xlVk4fpxdqI",
        "outputId": "c792c363-7a58-499b-81ff-4de4c38929d0"
      },
      "execution_count": 7,
      "outputs": [
        {
          "output_type": "stream",
          "name": "stdout",
          "text": [
            "3. K value which can be changed via user input\n"
          ]
        },
        {
          "output_type": "execute_result",
          "data": {
            "text/plain": [
              "[]"
            ]
          },
          "metadata": {},
          "execution_count": 7
        }
      ]
    }
  ]
}